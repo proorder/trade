{
 "cells": [
  {
   "cell_type": "code",
   "execution_count": 153,
   "metadata": {},
   "outputs": [],
   "source": [
    "import pandas as pd, math"
   ]
  },
  {
   "cell_type": "code",
   "execution_count": 154,
   "metadata": {},
   "outputs": [],
   "source": [
    "INTERSECTION_DEPTH = 49\n",
    "LOW = '<LOW>'\n",
    "HIGH = '<HIGH>'"
   ]
  },
  {
   "cell_type": "code",
   "execution_count": 155,
   "metadata": {},
   "outputs": [],
   "source": [
    "table = pd.read_csv('static/EURUSD.csv')"
   ]
  },
  {
   "cell_type": "code",
   "execution_count": 247,
   "metadata": {},
   "outputs": [],
   "source": [
    "def find_trend_line_breakdown(table, p1, p2, direction):    \n",
    "    interval = table.iloc[p1:p2]\n",
    "    a = []\n",
    "    if direction == LOW:\n",
    "        extremum = table.iloc[p1][LOW]\n",
    "        h = table.iloc[p2][direction] - extremum\n",
    "        for i, el in interval.iterrows():\n",
    "            if el[LOW] - extremum < (el.name-p1)*math.tan(h/(p2-p1)):\n",
    "                a.append(i)\n",
    "    else:\n",
    "        extremum = table.iloc[p1][HIGH]\n",
    "        h = extremum - table.iloc[p2][HIGH]\n",
    "        for i, el in interval.iterrows():\n",
    "            if extremum - el[HIGH] < (el.name-p1)*math.tan(h/(p2-p1)):\n",
    "                a.append(i)\n",
    "    return a"
   ]
  },
  {
   "cell_type": "code",
   "execution_count": 248,
   "metadata": {},
   "outputs": [
    {
     "data": {
      "text/plain": [
       "[184, 185]"
      ]
     },
     "execution_count": 248,
     "metadata": {},
     "output_type": "execute_result"
    }
   ],
   "source": [
    "find_trend_line_breakdown(table, 182, 191, HIGH)"
   ]
  },
  {
   "cell_type": "code",
   "execution_count": null,
   "metadata": {},
   "outputs": [],
   "source": []
  }
 ],
 "metadata": {
  "kernelspec": {
   "display_name": "Python 3",
   "language": "python",
   "name": "python3"
  },
  "language_info": {
   "codemirror_mode": {
    "name": "ipython",
    "version": 3
   },
   "file_extension": ".py",
   "mimetype": "text/x-python",
   "name": "python",
   "nbconvert_exporter": "python",
   "pygments_lexer": "ipython3",
   "version": "3.7.3"
  }
 },
 "nbformat": 4,
 "nbformat_minor": 2
}
