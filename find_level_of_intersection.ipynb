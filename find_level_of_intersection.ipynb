{
 "cells": [
  {
   "cell_type": "code",
   "execution_count": 2,
   "metadata": {},
   "outputs": [],
   "source": [
    "import pandas as pd"
   ]
  },
  {
   "cell_type": "code",
   "execution_count": 3,
   "metadata": {},
   "outputs": [],
   "source": [
    "INTERSECTION_DEPTH = 49\n",
    "LOW = '<LOW>'\n",
    "HIGH = '<HIGH>'"
   ]
  },
  {
   "cell_type": "code",
   "execution_count": 4,
   "metadata": {},
   "outputs": [],
   "source": [
    "table = pd.read_csv('static/EURUSD.csv')"
   ]
  },
  {
   "cell_type": "code",
   "execution_count": 5,
   "metadata": {},
   "outputs": [],
   "source": [
    "def find_level_of_intersection(table, level_point, direction):\n",
    "    iterator = table.iterrows()\n",
    "    i = level_point\n",
    "    while True:\n",
    "        try:\n",
    "            row = table.iloc[i]\n",
    "        except Exception:\n",
    "            return False\n",
    "        if i < 0: return False\n",
    "        if level_point - i > INTERSECTION_DEPTH: return False\n",
    "        if direction == LOW:\n",
    "            if row[LOW] < table.iloc[level_point][LOW]:\n",
    "                return i\n",
    "        if direction == HIGH:\n",
    "            if row[HIGH] > table.iloc[level_point][HIGH]:\n",
    "                return i\n",
    "        i -= 1"
   ]
  },
  {
   "cell_type": "code",
   "execution_count": 6,
   "metadata": {
    "scrolled": true
   },
   "outputs": [
    {
     "name": "stdout",
     "output_type": "stream",
     "text": [
      "236\n",
      "235\n",
      "234\n",
      "233\n",
      "232\n",
      "231\n",
      "230\n",
      "229\n"
     ]
    },
    {
     "data": {
      "text/plain": [
       "228"
      ]
     },
     "execution_count": 6,
     "metadata": {},
     "output_type": "execute_result"
    }
   ],
   "source": [
    "find_level_of_intersection(table, 236, HIGH)"
   ]
  }
 ],
 "metadata": {
  "kernelspec": {
   "display_name": "Python 3",
   "language": "python",
   "name": "python3"
  },
  "language_info": {
   "codemirror_mode": {
    "name": "ipython",
    "version": 3
   },
   "file_extension": ".py",
   "mimetype": "text/x-python",
   "name": "python",
   "nbconvert_exporter": "python",
   "pygments_lexer": "ipython3",
   "version": "3.7.3"
  }
 },
 "nbformat": 4,
 "nbformat_minor": 2
}
