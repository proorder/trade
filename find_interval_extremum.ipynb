{
 "cells": [
  {
   "cell_type": "code",
   "execution_count": 5,
   "metadata": {},
   "outputs": [],
   "source": [
    "import pandas as pd"
   ]
  },
  {
   "cell_type": "code",
   "execution_count": 6,
   "metadata": {},
   "outputs": [],
   "source": [
    "LOW = '<LOW>'\n",
    "HIGH = '<HIGH>'"
   ]
  },
  {
   "cell_type": "code",
   "execution_count": 7,
   "metadata": {},
   "outputs": [],
   "source": [
    "table = pd.read_csv('static/EURUSD.csv')"
   ]
  },
  {
   "cell_type": "code",
   "execution_count": 16,
   "metadata": {},
   "outputs": [],
   "source": [
    "def find_interval_extremum(table, from_point, to_point, direction):\n",
    "    extremum = table.iloc[from_point][direction]\n",
    "    ext_index = False \n",
    "    for i, (index, row) in enumerate(table.iterrows()):\n",
    "        if i < from_point: continue\n",
    "        if i > to_point: break\n",
    "        if direction == LOW:\n",
    "            if row[LOW] < extremum:\n",
    "                if row[LOW] < table.iloc[i-1][LOW] and row[LOW] < table.iloc[i+1][LOW]:\n",
    "                    extremum = row[LOW]\n",
    "                    ext_index = i\n",
    "        else:\n",
    "            if row[HIGH] > extremum:\n",
    "                if row[HIGH] > table.iloc[i-1][HIGH] and row[HIGH] > table.iloc[i+1][HIGH]:\n",
    "                    extremum = row[HIGH]\n",
    "                    ext_index = i\n",
    "    return ext_index"
   ]
  },
  {
   "cell_type": "code",
   "execution_count": 18,
   "metadata": {},
   "outputs": [
    {
     "data": {
      "text/plain": [
       "6"
      ]
     },
     "execution_count": 18,
     "metadata": {},
     "output_type": "execute_result"
    }
   ],
   "source": [
    "find_interval_extremum(table, 0, 50, HIGH)"
   ]
  },
  {
   "cell_type": "code",
   "execution_count": 10,
   "metadata": {},
   "outputs": [
    {
     "name": "stdout",
     "output_type": "stream",
     "text": [
      "1.8213400000000002\n",
      "1.8225799999999999\n",
      "1.8231700000000002\n",
      "1.8234099999999998\n",
      "1.8232599999999999\n",
      "1.8242099999999999\n",
      "1.8247099999999998\n",
      "1.82263\n",
      "1.8206900000000001\n",
      "1.8199299999999998\n",
      "1.81959\n",
      "1.81997\n",
      "1.8204\n",
      "1.8228400000000002\n",
      "1.82305\n",
      "1.81971\n",
      "1.81981\n",
      "1.81815\n",
      "1.8146400000000003\n",
      "1.8165099999999998\n",
      "1.8171599999999999\n",
      "1.81755\n",
      "1.8168\n",
      "1.81765\n",
      "1.81605\n",
      "1.81605\n",
      "1.8156599999999998\n",
      "1.81571\n",
      "1.81594\n",
      "1.81683\n",
      "1.8176400000000001\n",
      "1.81959\n",
      "1.8185\n",
      "1.81697\n",
      "1.8177599999999998\n",
      "1.8176599999999998\n",
      "1.8168400000000002\n",
      "1.81663\n",
      "1.8146900000000001\n",
      "1.81961\n",
      "1.8186900000000001\n",
      "1.81705\n",
      "1.81778\n",
      "1.81905\n",
      "1.81885\n",
      "1.8164799999999999\n",
      "1.81503\n",
      "1.81515\n",
      "1.8158299999999998\n",
      "1.81705\n"
     ]
    }
   ],
   "source": [
    "for index, row in table.iterrows():\n",
    "    if index > 49: break\n",
    "    print(row['<HIGH>'])"
   ]
  }
 ],
 "metadata": {
  "kernelspec": {
   "display_name": "Python 3",
   "language": "python",
   "name": "python3"
  },
  "language_info": {
   "codemirror_mode": {
    "name": "ipython",
    "version": 3
   },
   "file_extension": ".py",
   "mimetype": "text/x-python",
   "name": "python",
   "nbconvert_exporter": "python",
   "pygments_lexer": "ipython3",
   "version": "3.7.3"
  }
 },
 "nbformat": 4,
 "nbformat_minor": 2
}
